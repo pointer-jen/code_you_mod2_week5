{
 "cells": [
  {
   "cell_type": "markdown",
   "id": "a7a1457d",
   "metadata": {},
   "source": [
    "using the API https://services.nvd.nist.gov/rest/json/cves/2.0\n",
    "from NIST (https://nvd.nist.gov/developers/vulnerabilities) to pull the Vulnerability information published between May 1, 2025 to May 8, 2025\n",
    "Currently hard coded dates for inital work with API but could more involved in future where dates could be varialbes to change easier."
   ]
  },
  {
   "cell_type": "code",
   "execution_count": 22,
   "id": "2e7a46b3",
   "metadata": {},
   "outputs": [
    {
     "name": "stdout",
     "output_type": "stream",
     "text": [
      "success!\n",
      "Index(['resultsPerPage', 'startIndex', 'totalResults', 'format', 'version',\n",
      "       'timestamp', 'vulnerabilities'],\n",
      "      dtype='object')\n"
     ]
    }
   ],
   "source": [
    "import pandas as pd\n",
    "import requests\n",
    "\n",
    "url = \"https://services.nvd.nist.gov/rest/json/cves/2.0/?pubStartDate=2025-05-01T00:00:00.000&pubEndDate=2025-05-08T00:00:00.000\"\n",
    "\n",
    "\n",
    "response = requests.get(url)\n",
    "\n",
    "# Check if the request was successful\n",
    "if response.status_code == 200:\n",
    "    data = response.json()\n",
    "    print('success!')\n",
    "else:\n",
    "    print(f\"Error: {response.status_code}\")\n",
    "\n",
    "df = pd.DataFrame(data)\n",
    "print(df.columns)\n"
   ]
  },
  {
   "cell_type": "markdown",
   "id": "dfa6641c",
   "metadata": {},
   "source": [
    "Print the last 10 vulnerabilities pulled from PubEndDate"
   ]
  },
  {
   "cell_type": "code",
   "execution_count": 23,
   "id": "de765097",
   "metadata": {},
   "outputs": [
    {
     "name": "stdout",
     "output_type": "stream",
     "text": [
      "1209    {'cve': {'id': 'CVE-2025-41431', 'sourceIdenti...\n",
      "1210    {'cve': {'id': 'CVE-2025-41433', 'sourceIdenti...\n",
      "1211    {'cve': {'id': 'CVE-2025-43878', 'sourceIdenti...\n",
      "1212    {'cve': {'id': 'CVE-2025-46265', 'sourceIdenti...\n",
      "1213    {'cve': {'id': 'CVE-2025-46821', 'sourceIdenti...\n",
      "1214    {'cve': {'id': 'CVE-2025-46826', 'sourceIdenti...\n",
      "1215    {'cve': {'id': 'CVE-2025-0936', 'sourceIdentif...\n",
      "1216    {'cve': {'id': 'CVE-2025-32441', 'sourceIdenti...\n",
      "1217    {'cve': {'id': 'CVE-2025-35939', 'sourceIdenti...\n",
      "1218    {'cve': {'id': 'CVE-2025-46727', 'sourceIdenti...\n",
      "Name: vulnerabilities, dtype: object\n"
     ]
    }
   ],
   "source": [
    "print(df.vulnerabilities.tail(10))"
   ]
  },
  {
   "cell_type": "markdown",
   "id": "1f142232",
   "metadata": {},
   "source": [
    "print columns on the last item by pulling from API using the CVE \n",
    "Example URL for CVE\n",
    "https://services.nvd.nist.gov/rest/json/cves/2.0?cveId=CVE-2019-1010218"
   ]
  },
  {
   "cell_type": "code",
   "execution_count": 24,
   "id": "ba624963",
   "metadata": {},
   "outputs": [
    {
     "name": "stdout",
     "output_type": "stream",
     "text": [
      "success!\n",
      "Index(['resultsPerPage', 'startIndex', 'totalResults', 'format', 'version',\n",
      "       'timestamp', 'vulnerabilities'],\n",
      "      dtype='object')\n"
     ]
    }
   ],
   "source": [
    "cve_url = \"https://services.nvd.nist.gov/rest/json/cves/2.0?cveId=CVE-2025-46727\"\n",
    "\n",
    "response = requests.get(cve_url)\n",
    "\n",
    "# Check if the request was successful\n",
    "if response.status_code == 200:\n",
    "    data_cve = response.json()\n",
    "    print('success!')\n",
    "else:\n",
    "    print(f\"Error: {response.status_code}\")\n",
    "\n",
    "df_cve = pd.DataFrame(data_cve)\n",
    "print(df_cve.columns)"
   ]
  }
 ],
 "metadata": {
  "kernelspec": {
   "display_name": ".venv",
   "language": "python",
   "name": "python3"
  },
  "language_info": {
   "codemirror_mode": {
    "name": "ipython",
    "version": 3
   },
   "file_extension": ".py",
   "mimetype": "text/x-python",
   "name": "python",
   "nbconvert_exporter": "python",
   "pygments_lexer": "ipython3",
   "version": "3.12.2"
  }
 },
 "nbformat": 4,
 "nbformat_minor": 5
}
