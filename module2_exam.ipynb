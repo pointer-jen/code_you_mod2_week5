{
 "cells": [
  {
   "cell_type": "markdown",
   "id": "3a614c8c",
   "metadata": {},
   "source": [
    "# Module 2 Exam notebook\n",
    "\n",
    "Download the supermarket dataset at Kaggle for these exercises."
   ]
  },
  {
   "cell_type": "markdown",
   "id": "1669478b",
   "metadata": {},
   "source": [
    "Question 1 - What is the smallest profit ratio?"
   ]
  },
  {
   "cell_type": "code",
   "execution_count": null,
   "id": "312296a0",
   "metadata": {
    "vscode": {
     "languageId": "plaintext"
    }
   },
   "outputs": [],
   "source": []
  }
 ],
 "metadata": {
  "language_info": {
   "name": "python"
  }
 },
 "nbformat": 4,
 "nbformat_minor": 5
}
